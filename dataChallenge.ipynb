{
 "cells": [
  {
   "cell_type": "markdown",
   "id": "44264ed1-44ab-4ab3-a408-af3c643fc908",
   "metadata": {},
   "source": [
    "<a href=\"https://colab.research.google.com/github/vischia/lisbon-ml-school/blob/master/dataChallenge.ipynb\" target=\"_parent\"><img src=\"https://colab.research.google.com/assets/colab-badge.svg\" alt=\"Open In Colab\"/></a>"
   ]
  },
  {
   "cell_type": "markdown",
   "id": "4dc8d289-3918-452e-b6e1-28ed97caa8e4",
   "metadata": {},
   "source": [
    "# Lisbon Machine Learning School\n",
    "## Data Challenge!!! Multitarget regression\n",
    "\n",
    "(C) Pietro Vischia (Universidad de Oviedo and ICTEA), pietro.vischia@cern.ch\n"
   ]
  },
  {
   "cell_type": "markdown",
   "id": "71d49ac6-f688-46d1-82bb-c93ef1eb2cb6",
   "metadata": {},
   "source": [
    "## Setup the environment\n",
    "\n",
    "- If you are running locally, you don't need to run anything\n",
    "\n",
    "- If you are running on Google Colab, uncomment and run the next cell (remove only the \"#\", keep the \"!\"). You can also run it from a local installation, but it will do nothing if you have already installed all dependencies (and it will take some time to tell you it is not gonna do anything)."
   ]
  },
  {
   "cell_type": "markdown",
   "id": "50b9fe7a-5c11-4ce6-be45-402a10f052a0",
   "metadata": {},
   "source": [
    "## Load the needed libraries"
   ]
  },
  {
   "cell_type": "code",
   "execution_count": 267,
   "id": "c894a5d9-5ab1-442b-af11-13bcf3f79f6d",
   "metadata": {},
   "outputs": [
    {
     "name": "stdout",
     "output_type": "stream",
     "text": [
      "Using torch version 2.6.0\n",
      "Using device: mps\n"
     ]
    }
   ],
   "source": [
    "import os\n",
    "\n",
    "import torch\n",
    "import torch.nn as nn  \n",
    "import torch.optim as optim \n",
    "from torch.utils.data import Dataset, DataLoader \n",
    "import torch.nn.functional as F \n",
    "import torchvision\n",
    "import torchinfo\n",
    "from tqdm import tqdm\n",
    "\n",
    "import sklearn\n",
    "import sklearn.model_selection\n",
    "from sklearn.metrics import roc_curve, auc, accuracy_score\n",
    "\n",
    "import uproot\n",
    "\n",
    "import pandas as pd\n",
    "\n",
    "import matplotlib\n",
    "matplotlib.rcParams['figure.figsize'] = (8, 6)\n",
    "matplotlib.rcParams['axes.labelsize'] = 14\n",
    "%matplotlib inline\n",
    "\n",
    "import matplotlib.pyplot as plt\n",
    "import numpy as np\n",
    "\n",
    "device = torch.device('cuda' if torch.cuda.is_available() else 'cpu')\n",
    "if torch.backends.mps.is_available():\n",
    "    device = torch.device(\"mps\")\n",
    "    torch.set_default_dtype(torch.float32)\n",
    "\n",
    "print('Using torch version', torch.__version__)\n",
    "print('Using device:', device)\n"
   ]
  },
  {
   "cell_type": "markdown",
   "id": "c4b52b21-e0e5-4c2a-9afb-e42afb99e42f",
   "metadata": {},
   "source": [
    "## Load the data"
   ]
  },
  {
   "cell_type": "markdown",
   "id": "fc6cf761-a0b2-496c-83bc-5344dca6902d",
   "metadata": {},
   "source": [
    "We will use the same data we used for exercise 2, that is simulated events corresponding to three physics processes.\n",
    "- ttH production\n",
    "- ttW production\n",
    "- Drell-Yan ($pp\\\\to Z/\\\\gamma^*$+jets) production\n",
    "\n",
    "We will select the multilepton final state, which is a challenging final state with a rich structure and nontrivial background separation.\n",
    "\n",
    "<img src=\"figs/2lss.png\" alt=\"ttH multilepton 2lss\" style=\"width:40%\"/>\n",
    "\n",
    "We use the [uproot](https://uproot.readthedocs.io/en/latest/basic.html) library to conveniently read in a [ROOT TNuple](https://root.cern.ch/doc/master/classTNtuple.html) which can automatically convert it to a [pandas dataframe](https://pandas.pydata.org/)."
   ]
  },
  {
   "cell_type": "code",
   "execution_count": 268,
   "id": "74a60566-fd81-4c4b-b80c-1dafc8dc60c8",
   "metadata": {},
   "outputs": [],
   "source": [
    "# # Download the data only if you haven't done so yet\n",
    "\n",
    "# if not os.path.isfile(\"data/signal_blind20.root\"): \n",
    "#     !mkdir data; cd data/; wget https://www.hep.uniovi.es/vischia/lisbon_ml_school/lisbon_ml_school_tth.tar.gz; tar xzvf lisbon_ml_school_tth.tar.gz; rm lisbon_ml_school_tth.tar.gz; cd -;\n"
   ]
  },
  {
   "cell_type": "code",
   "execution_count": 269,
   "id": "c829b510-e956-477d-a841-81b0a369ab6f",
   "metadata": {},
   "outputs": [],
   "source": [
    "\n",
    "data = uproot.open('data/signal_blind20.root')['Friends'].arrays(library=\"pd\")\n",
    "\n"
   ]
  },
  {
   "cell_type": "markdown",
   "id": "ebdc7ae9-0d8e-4dac-b3bc-b8e986eb1654",
   "metadata": {},
   "source": [
    "## Data Inspection\n",
    "\n",
    "Select the features you want to use for this exercise, don't forget to remove unnecessary features.\n",
    "\n",
    "Most of the variables are input features, corresponding to detector measurements of the properties of the reconstructed decay products.\n",
    "\n",
    "There are three special variables, though:\n",
    "\n",
    "- `Hreco_evt_tag`: this feature has values in ${0,1}$, where $1$ flags the event as signal event, and $0$ flags the event as background event;\n",
    "- `Hreco_HTXS_Higgs_pt`: this feature contains the true generate Higgs boson transverse momentum at generator level (used for regression);\n",
    "- `Hreco_HTXS_Higgs_y`: this feature contains the true generated Higgs boson rapidity (not pseudorapidity) at generator level (used for regression).\n",
    "\n",
    "\n",
    "### Important\n",
    "\n",
    "Twenty percent of the events have `-99` in the `Hreco_HTXS_Higgs_pt` and `Hreco_HTXS_Higgs_y` values. These are the \"unlabelled\" events that you will have to send predictions for. You should filter them out for training and testing"
   ]
  },
  {
   "cell_type": "markdown",
   "id": "68dec0a6-c8da-4201-b7a9-675be0612864",
   "metadata": {},
   "source": [
    "## The assignment\n",
    "\n",
    "- For this data challenge, your target is to simultaneously regress the Higgs transverse momentum `Hreco_HTXS_Higgs_pt` and the rapidity `Hreco_HTXS_Higgs_y`\n",
    "\n",
    "- You will need to split your dataset into two parts: one is where you have access to the pT and y labels (80% of the dataset): you will build your training and test sets from this. The other is where the pT and y has been set to -99: this is the portion of data that is kept blind. You will have to use 80% of the data to train a regressor, then evaluate the output of your regressor on the blind 20% of the data, and send us the results. We will compare the result with the true value we have."
   ]
  },
  {
   "cell_type": "code",
   "execution_count": 270,
   "id": "406b6ce3-0f17-4d42-a581-1ad77a019490",
   "metadata": {},
   "outputs": [
    {
     "name": "stdout",
     "output_type": "stream",
     "text": [
      "0.19994854437379506\n",
      "0.12417178160093822\n",
      "Index(['Hreco_Lep0_pt', 'Hreco_Lep1_pt', 'Hreco_HadTop_pt',\n",
      "       'Hreco_All5_Jets_pt', 'Hreco_More5_Jets_pt', 'Hreco_Jets_plus_Lep_pt',\n",
      "       'Hreco_Lep0_eta', 'Hreco_Lep1_eta', 'Hreco_HadTop_eta',\n",
      "       'Hreco_All5_Jets_eta', 'Hreco_More5_Jets_eta',\n",
      "       'Hreco_Jets_plus_Lep_eta', 'Hreco_Lep0_phi', 'Hreco_Lep1_phi',\n",
      "       'Hreco_HadTop_phi', 'Hreco_All5_Jets_phi', 'Hreco_More5_Jets_phi',\n",
      "       'Hreco_Jets_plus_Lep_phi', 'Hreco_Lep0_mass', 'Hreco_Lep1_mass',\n",
      "       'Hreco_HadTop_mass', 'Hreco_All5_Jets_mass', 'Hreco_More5_Jets_mass',\n",
      "       'Hreco_Jets_plus_Lep_mass', 'Hreco_TopScore', 'Hreco_met',\n",
      "       'Hreco_met_phi'],\n",
      "      dtype='object')\n",
      "Index(['Hreco_HTXS_Higgs_pt', 'Hreco_HTXS_Higgs_y'], dtype='object')\n"
     ]
    },
    {
     "name": "stderr",
     "output_type": "stream",
     "text": [
      "/var/folders/hn/0x08jk9154vfvmkr47q5hvc40000gn/T/ipykernel_20429/197265847.py:6: UserWarning: Boolean Series key will be reindexed to match DataFrame index.\n",
      "  train_val_data = train_val_data[data[\"Hreco_Lep2_pt\"]!=-99]\n",
      "/var/folders/hn/0x08jk9154vfvmkr47q5hvc40000gn/T/ipykernel_20429/197265847.py:7: UserWarning: Boolean Series key will be reindexed to match DataFrame index.\n",
      "  train_val_data = train_val_data[data[\"Hreco_HTXS_Higgs_y\"]>=0]\n"
     ]
    }
   ],
   "source": [
    "# Drop unneeded features\n",
    "\n",
    "blind_data = data[data[\"Hreco_HTXS_Higgs_pt\"]==-99]\n",
    "\n",
    "train_val_data = data[data[\"Hreco_HTXS_Higgs_pt\"]!=-99]\n",
    "train_val_data = train_val_data[data[\"Hreco_Lep2_pt\"]!=-99]\n",
    "train_val_data = train_val_data[data[\"Hreco_HTXS_Higgs_y\"]>=0]\n",
    "\n",
    "print(blind_data.shape[0] / data.shape[0])\n",
    "print(train_val_data.shape[0] / data.shape[0])\n",
    "\n",
    "\n",
    "\n",
    "train_val_labels = train_val_data[[\"Hreco_HTXS_Higgs_pt\", \"Hreco_HTXS_Higgs_y\"]].copy()\n",
    "\n",
    "train_val_data = train_val_data.drop([\"index\", \"Hreco_HTXS_Higgs_pt\", \"Hreco_Lep2_phi\", \"Hreco_Lep2_mass\", \"Hreco_Lep2_eta\", \"Hreco_Lep2_pt\" , \"Hreco_HTXS_Higgs_y\", \"Hreco_evt_tag\"], axis=1 )\n",
    "blind_data_features = blind_data.drop([\"index\", \"Hreco_HTXS_Higgs_pt\", \"Hreco_Lep2_phi\", \"Hreco_Lep2_mass\", \"Hreco_Lep2_eta\", \"Hreco_Lep2_pt\" , \"Hreco_HTXS_Higgs_y\", \"Hreco_evt_tag\"], axis=1 )\n",
    "\n",
    "# Filter data\n",
    "print(train_val_data.columns)\n",
    "print(train_val_labels.columns)\n",
    "\n",
    "from sklearn.preprocessing import StandardScaler# standard scaling\n",
    "train_data, val_data, train_labels, val_labels = sklearn.model_selection.train_test_split(train_val_data, train_val_labels, test_size=0.1, random_state=42)\n",
    "\n",
    "# Scale the train input features\n",
    "for column in train_data.columns:\n",
    "    scaler_train = StandardScaler().fit(train_data.filter([column], axis=1))\n",
    "    train_data[column] = scaler_train.transform(train_data.filter([column], axis=1))\n",
    "\n",
    "for column in val_data.columns:\n",
    "    scaler_val = StandardScaler().fit(val_data.filter([column], axis=1))\n",
    "    val_data[column] = scaler_val.transform(val_data.filter([column], axis=1))\n",
    "\n",
    "for column in blind_data_features.columns:\n",
    "    scaler_blind = StandardScaler().fit(blind_data_features.filter([column], axis=1))\n",
    "    blind_data_features[column] = scaler_blind.transform(blind_data_features.filter([column], axis=1))\n",
    "\n",
    "\n",
    "# Scale the labels\n",
    "for column in train_labels.columns:\n",
    "    scaler_train_label = StandardScaler().fit(train_labels.filter([column], axis=1))\n",
    "    train_labels[column] = scaler_train_label.transform(train_labels.filter([column], axis=1))\n",
    "\n",
    "for column in val_labels.columns:\n",
    "    scaler_val_label = StandardScaler().fit(val_labels.filter([column], axis=1))\n",
    "    val_labels[column] = scaler_val_label.transform(val_labels.filter([column], axis=1))\n"
   ]
  },
  {
   "cell_type": "markdown",
   "id": "b9a72e29-98fb-41ac-b178-30402b03968a",
   "metadata": {},
   "source": [
    "- The loss function typically used for regression problems is the mean square error: in this case you will have to figure out how to deal with the fact that the output vector has dimension two (transverse momentum, and rapidity).\n",
    "- A tricky challenge is to deal with output features that have different scales: the rapidity is of $\\mathcal{O}(1)$, the transverse momentum is of $\\\\mathcal{O}(100-1000}$"
   ]
  },
  {
   "cell_type": "markdown",
   "id": "f772d79b-6dcd-4a2b-b9c1-5fb5b204771c",
   "metadata": {},
   "source": [
    "## Regression problems\n",
    "\n",
    "Regression problems require the prediction to be free of adopting the same range as the target variable(s) that need to be regressed.\n",
    "\n",
    "This is why the sigmoid activation function is not a good choice. The typical form of output layers of a regression problem is, if `n_outputs` is the dimension of the output vector:\n"
   ]
  },
  {
   "cell_type": "code",
   "execution_count": 271,
   "id": "1376288d",
   "metadata": {},
   "outputs": [
    {
     "name": "stdout",
     "output_type": "stream",
     "text": [
      "Feature batch shape: torch.Size([1024, 27])\n",
      "Labels batch shape: torch.Size([1024, 2])\n"
     ]
    }
   ],
   "source": [
    "class MyDataset(Dataset):\n",
    "    def __init__(self, X, y, device=torch.device(\"cpu\")):\n",
    "        self.X = torch.Tensor(X.values).to(device)\n",
    "        self.y = torch.Tensor(y.values).to(device)\n",
    "\n",
    "    def __len__(self):\n",
    "        return len(self.y)\n",
    "\n",
    "    def __getitem__(self, idx):\n",
    "        label = self.y[idx]\n",
    "        datum = self.X[idx]\n",
    "        \n",
    "        return datum, label\n",
    "\n",
    "batch_size=1024 # Minibatch learning\n",
    "\n",
    "\n",
    "train_dataset = MyDataset(train_data, train_labels)\n",
    "val_dataset = MyDataset(val_data, val_labels)\n",
    "\n",
    "\n",
    "train_dataloader = DataLoader(train_dataset, batch_size=batch_size, shuffle=True)\n",
    "test_dataloader = DataLoader(val_dataset, batch_size=batch_size, shuffle=True)\n",
    "true_test_dataloader = DataLoader(blind_data_features, batch_size=1, shuffle=False)\n",
    "\n",
    "train_features, train_labels = next(iter(train_dataloader))\n",
    "print(f\"Feature batch shape: {train_features.size()}\")\n",
    "print(f\"Labels batch shape: {train_labels.size()}\")\n"
   ]
  },
  {
   "cell_type": "code",
   "execution_count": 272,
   "id": "78cbe240-aa59-40ce-9878-0877f6366a69",
   "metadata": {},
   "outputs": [
    {
     "name": "stdout",
     "output_type": "stream",
     "text": [
      "NeuralNetwork(\n",
      "  (linear_relu_stack): Sequential(\n",
      "    (0): Linear(in_features=27, out_features=1024, bias=True)\n",
      "    (1): LeakyReLU(negative_slope=0.01)\n",
      "    (2): Linear(in_features=1024, out_features=512, bias=True)\n",
      "    (3): LeakyReLU(negative_slope=0.01)\n",
      "    (4): Linear(in_features=512, out_features=128, bias=True)\n",
      "    (5): LeakyReLU(negative_slope=0.01)\n",
      "    (6): Linear(in_features=128, out_features=64, bias=True)\n",
      "    (7): LeakyReLU(negative_slope=0.01)\n",
      "    (8): Linear(in_features=64, out_features=8, bias=True)\n",
      "    (9): LeakyReLU(negative_slope=0.01)\n",
      "    (10): Linear(in_features=8, out_features=2, bias=True)\n",
      "  )\n",
      ")\n",
      "Now let's see some more detailed info by using the torchinfo package\n"
     ]
    },
    {
     "data": {
      "text/plain": [
       "==========================================================================================\n",
       "Layer (type:depth-idx)                   Output Shape              Param #\n",
       "==========================================================================================\n",
       "NeuralNetwork                            [1024, 2]                 --\n",
       "├─Sequential: 1-1                        [1024, 2]                 --\n",
       "│    └─Linear: 2-1                       [1024, 1024]              28,672\n",
       "│    └─LeakyReLU: 2-2                    [1024, 1024]              --\n",
       "│    └─Linear: 2-3                       [1024, 512]               524,800\n",
       "│    └─LeakyReLU: 2-4                    [1024, 512]               --\n",
       "│    └─Linear: 2-5                       [1024, 128]               65,664\n",
       "│    └─LeakyReLU: 2-6                    [1024, 128]               --\n",
       "│    └─Linear: 2-7                       [1024, 64]                8,256\n",
       "│    └─LeakyReLU: 2-8                    [1024, 64]                --\n",
       "│    └─Linear: 2-9                       [1024, 8]                 520\n",
       "│    └─LeakyReLU: 2-10                   [1024, 8]                 --\n",
       "│    └─Linear: 2-11                      [1024, 2]                 18\n",
       "==========================================================================================\n",
       "Total params: 627,930\n",
       "Trainable params: 627,930\n",
       "Non-trainable params: 0\n",
       "Total mult-adds (M): 643.00\n",
       "==========================================================================================\n",
       "Input size (MB): 0.11\n",
       "Forward/backward pass size (MB): 14.24\n",
       "Params size (MB): 2.51\n",
       "Estimated Total Size (MB): 16.86\n",
       "=========================================================================================="
      ]
     },
     "execution_count": 272,
     "metadata": {},
     "output_type": "execute_result"
    }
   ],
   "source": [
    "class NeuralNetwork(nn.Module):\n",
    "    def __init__(self, ninputs, device=torch.device(\"cpu\")):\n",
    "        super().__init__()\n",
    "        self.device = device\n",
    "        \n",
    "        self.linear_relu_stack = nn.Sequential(\n",
    "            nn.Linear(ninputs, 1024),\n",
    "            nn.LeakyReLU(),\n",
    "            nn.Linear(1024, 512),\n",
    "            nn.LeakyReLU(),\n",
    "            nn.Linear(512, 128),\n",
    "            nn.LeakyReLU(),\n",
    "            nn.Linear(128,64),\n",
    "            nn.LeakyReLU(),\n",
    "            nn.Linear(64,8),\n",
    "            nn.LeakyReLU(),\n",
    "            nn.Linear(8, 2),\n",
    "        )\n",
    "        self.linear_relu_stack.to(device)\n",
    "\n",
    "    def forward(self, x):\n",
    "        # Pass data through conv1\n",
    "        x = self.linear_relu_stack(x)\n",
    "        return x\n",
    "\n",
    "model = NeuralNetwork(train_data.shape[1])\n",
    "\n",
    "print(model) # some basic info\n",
    "\n",
    "print(\"Now let's see some more detailed info by using the torchinfo package\")\n",
    "torchinfo.summary(model, input_size=(batch_size, train_data.shape[1])) # the input size is (batch size, number of features)"
   ]
  },
  {
   "cell_type": "markdown",
   "id": "5314e71e-c8f2-41ce-8107-370ed15f64fd",
   "metadata": {},
   "source": [
    "The other big change with respect to classification models is that the cross-entropy is not the proper loss function anymore.\n",
    "\n",
    "The regression problem is essentially a generalization of a linear regression problem, and the typical error estimates from classical statistics apply, each with its pros and cons.\n",
    "\n",
    "#### Mean Absolute Error (MAE)\n",
    "\n",
    "$MAE(\\hat{y}, y^{*}) = \\frac{1}{N} \\sum |\\hat{y} - y^{*}|$\n",
    "\n",
    "- Lower values are better.\n",
    "- It estimates the average error, thus cannot distinguish between one large error and many small errors.\n",
    "\n",
    "#### Root Mean Squared Error (RMSE)\n",
    "\n",
    "$RMSE(\\hat{y}, y^{*}) = \\sqrt{\\sum \\frac{(\\hat{y} - y^{*})^2}{N}}$\n",
    "\n",
    "- Lower values are better.\n",
    "- It estimates the spread of the residuals (standard deviation of the unexplained variance)\n",
    "- It gives large weight to large errors (if you use it as loss function, it will prioritize the reduction of large errors)\n",
    "\n",
    "#### Mean Absolute Percentage Error (MAPE)\n",
    "\n",
    "$MAPE(\\hat{y}, y^{*}) = \\frac{100\\%}{N} \\sum \\Big|\\frac{\\hat{y} - y^{*}}{y^{*}}\\Big|$\n",
    "\n",
    "#### R-Squared Score\n",
    "\n",
    "$R^2(\\hat{y}, y^{*}) = 1-\\frac{ \\sum (\\hat{y} - y^{*})^2}{  \\sum(\\bar{y} - y^{*})^2  }$, \n",
    "\n",
    "where $\\bar{y}$ is the arithmetic mean of the true values, $\\bar{y} = \\frac{1}{N}\\sum_{i=0}^{N-1} y^{*}$\n",
    "\n",
    "- It estimates how well the model explains the variance of the data\n",
    "- It can be negative (and that means that the model fits badly the data)\n",
    "\n",
    "\n",
    "You can consult online [an overview of the available loss functions in `pytorch`](https://pytorch.org/docs/stable/nn.html#loss-functions).\n"
   ]
  },
  {
   "cell_type": "markdown",
   "id": "5fcd38be-7db1-4950-a55e-f1c17a0da3fd",
   "metadata": {},
   "source": [
    "## A few hints\n",
    "\n",
    "- Remove useless features\n",
    "- Consider the possibility of applying preprocessing to the input features, to the target features, or to both\n",
    "- Choose the appropriate metric to track\n",
    "- You can recycle the code for DataSet, DataLoader, Neural Network model, and train/test loops from exercise_1 essentially verbatim. Just make sure you change the loss function, and you change the output activation function to `nnReLU()`\n",
    "- Loss functions can be made as complicated as you want by defining your own loss function, e.g.:"
   ]
  },
  {
   "cell_type": "code",
   "execution_count": 273,
   "id": "e77bdd1e-12d3-497f-bb5a-89402cd869c9",
   "metadata": {},
   "outputs": [],
   "source": [
    "loss_fn = nn.MSELoss()"
   ]
  },
  {
   "cell_type": "markdown",
   "id": "aef484b5-fd1d-41e7-b060-1ff4f2c35f15",
   "metadata": {},
   "source": [
    "## The scoring system\n",
    "\n",
    "- You will have to define a model with two output nodes: the first one must regress the Higgs boson transverse momentum, the second one must regress the Higgs boson rapidity.\n",
    "- You can also use any flavour of boosted decision trees you may see fit, but implemented in `torch`.\n",
    "- You will have to evaluate your model on the unlabelled data, save the predictions to a csv file with commas as separators (format: pt, y), and send us the csv file (see below). \n",
    "- If you have filtered the features further, please include in the email the code that creates the `data` dataframe.\n",
    "\n",
    "We will evaluate the results of the challenge on the unlabelled events, using as performance metric the RMSE.\n"
   ]
  },
  {
   "cell_type": "code",
   "execution_count": 274,
   "id": "41f61a10",
   "metadata": {},
   "outputs": [],
   "source": [
    "def train_loop(dataloader, model, loss_fn, optimizer, scheduler, best_model_path, device):\n",
    "    size = len(dataloader.dataset)\n",
    "    losses=[] # Track the loss function\n",
    "    # Set the model to training mode - important for batch normalization and dropout layers\n",
    "    # Unnecessary in this situation but added for best practices\n",
    "    model.train()\n",
    "    #for batch, (X, y) in enumerate(dataloader):\n",
    "    best_loss = np.inf\n",
    "    for (X,y) in tqdm(dataloader):\n",
    "        # Reset gradients (to avoid their accumulation)\n",
    "        optimizer.zero_grad()\n",
    "        # Compute prediction and loss\n",
    "        pred = model(X)\n",
    "        #if (all_equal3(pred.detach().numpy())):\n",
    "        #    print(\"All equal!\")\n",
    "        loss = loss_fn(pred.squeeze(dim=1), y)\n",
    "        losses.append(loss.detach().cpu())\n",
    "        if loss < best_loss:\n",
    "            best_loss = loss.detach().cpu()\n",
    "            torch.save(model.state_dict(), best_model_path) # Save the full state of the model, to have access to the training history\n",
    "        # Backpropagation\n",
    "        loss.backward()\n",
    "        optimizer.step()\n",
    "\n",
    "    scheduler.step()\n",
    "    return np.mean(losses)"
   ]
  },
  {
   "cell_type": "code",
   "execution_count": 275,
   "id": "e239037d",
   "metadata": {},
   "outputs": [],
   "source": [
    "def test_loop(dataloader, model, loss_fn, device):\n",
    "    losses=[] # Track the loss function\n",
    "    # Set the model to evaluation mode - important for batch normalization and dropout layers\n",
    "    # Unnecessary in this situation but added for best practices\n",
    "    model.eval()\n",
    "    size = len(dataloader.dataset)\n",
    "    num_batches = len(dataloader)\n",
    "    test_loss, correct = 0, 0\n",
    "\n",
    "    # Evaluating the model with torch.no_grad() ensures that no gradients are computed during test mode\n",
    "    # also serves to reduce unnecessary gradient computations and memory usage for tensors with requires_grad=True\n",
    "    with torch.no_grad():\n",
    "        #for X, y in dataloader:\n",
    "        for (X,y) in tqdm(dataloader):\n",
    "            pred = model(X)\n",
    "            loss = loss_fn(pred.squeeze(dim=1), y).item()\n",
    "            losses.append(loss)\n",
    "            test_loss += loss\n",
    "            #correct += (pred.argmax(1) == y).type(torch.float).sum().item()\n",
    "            \n",
    "    return np.mean(losses)"
   ]
  },
  {
   "cell_type": "code",
   "execution_count": 276,
   "id": "ea4ff88a",
   "metadata": {},
   "outputs": [
    {
     "name": "stdout",
     "output_type": "stream",
     "text": [
      "Epoch 1\n",
      "-------------------------------\n"
     ]
    },
    {
     "name": "stderr",
     "output_type": "stream",
     "text": [
      "100%|██████████| 33/33 [00:00<00:00, 47.05it/s]\n",
      "100%|██████████| 4/4 [00:00<00:00, 153.59it/s]\n"
     ]
    },
    {
     "name": "stdout",
     "output_type": "stream",
     "text": [
      "Avg train loss 0.7147305 , Avg test loss 0.625984326004982 Current learning rate [0.001]\n",
      "Epoch 2\n",
      "-------------------------------\n"
     ]
    },
    {
     "name": "stderr",
     "output_type": "stream",
     "text": [
      "100%|██████████| 33/33 [00:00<00:00, 50.09it/s]\n",
      "100%|██████████| 4/4 [00:00<00:00, 148.02it/s]\n"
     ]
    },
    {
     "name": "stdout",
     "output_type": "stream",
     "text": [
      "Avg train loss 0.6239772 , Avg test loss 0.6145319193601608 Current learning rate [0.001]\n",
      "Epoch 3\n",
      "-------------------------------\n"
     ]
    },
    {
     "name": "stderr",
     "output_type": "stream",
     "text": [
      "100%|██████████| 33/33 [00:00<00:00, 34.35it/s]\n",
      "100%|██████████| 4/4 [00:00<00:00, 156.44it/s]\n"
     ]
    },
    {
     "name": "stdout",
     "output_type": "stream",
     "text": [
      "Avg train loss 0.6158557 , Avg test loss 0.6060621589422226 Current learning rate [0.001]\n",
      "Epoch 4\n",
      "-------------------------------\n"
     ]
    },
    {
     "name": "stderr",
     "output_type": "stream",
     "text": [
      "100%|██████████| 33/33 [00:00<00:00, 43.07it/s]\n",
      "100%|██████████| 4/4 [00:00<00:00, 129.20it/s]\n"
     ]
    },
    {
     "name": "stdout",
     "output_type": "stream",
     "text": [
      "Avg train loss 0.6063636 , Avg test loss 0.599437415599823 Current learning rate [0.001]\n",
      "Epoch 5\n",
      "-------------------------------\n"
     ]
    },
    {
     "name": "stderr",
     "output_type": "stream",
     "text": [
      "100%|██████████| 33/33 [00:00<00:00, 46.65it/s]\n",
      "100%|██████████| 4/4 [00:00<00:00, 134.45it/s]\n"
     ]
    },
    {
     "name": "stdout",
     "output_type": "stream",
     "text": [
      "Avg train loss 0.59759843 , Avg test loss 0.6068914085626602 Current learning rate [0.001]\n",
      "Epoch 6\n",
      "-------------------------------\n"
     ]
    },
    {
     "name": "stderr",
     "output_type": "stream",
     "text": [
      "100%|██████████| 33/33 [00:00<00:00, 37.83it/s]\n",
      "100%|██████████| 4/4 [00:00<00:00, 124.53it/s]\n"
     ]
    },
    {
     "name": "stdout",
     "output_type": "stream",
     "text": [
      "Avg train loss 0.59259087 , Avg test loss 0.5954073518514633 Current learning rate [0.001]\n",
      "Epoch 7\n",
      "-------------------------------\n"
     ]
    },
    {
     "name": "stderr",
     "output_type": "stream",
     "text": [
      "100%|██████████| 33/33 [00:00<00:00, 39.93it/s]\n",
      "100%|██████████| 4/4 [00:00<00:00, 151.23it/s]\n"
     ]
    },
    {
     "name": "stdout",
     "output_type": "stream",
     "text": [
      "Avg train loss 0.5878826 , Avg test loss 0.5920240432024002 Current learning rate [0.001]\n",
      "Epoch 8\n",
      "-------------------------------\n"
     ]
    },
    {
     "name": "stderr",
     "output_type": "stream",
     "text": [
      "100%|██████████| 33/33 [00:00<00:00, 49.73it/s]\n",
      "100%|██████████| 4/4 [00:00<00:00, 144.08it/s]\n"
     ]
    },
    {
     "name": "stdout",
     "output_type": "stream",
     "text": [
      "Avg train loss 0.5856148 , Avg test loss 0.6061148196458817 Current learning rate [0.001]\n",
      "Epoch 9\n",
      "-------------------------------\n"
     ]
    },
    {
     "name": "stderr",
     "output_type": "stream",
     "text": [
      "100%|██████████| 33/33 [00:00<00:00, 49.05it/s]\n",
      "100%|██████████| 4/4 [00:00<00:00, 141.11it/s]\n"
     ]
    },
    {
     "name": "stdout",
     "output_type": "stream",
     "text": [
      "Avg train loss 0.58207965 , Avg test loss 0.5905646085739136 Current learning rate [0.001]\n",
      "Epoch 10\n",
      "-------------------------------\n"
     ]
    },
    {
     "name": "stderr",
     "output_type": "stream",
     "text": [
      "100%|██████████| 33/33 [00:00<00:00, 48.84it/s]\n",
      "100%|██████████| 4/4 [00:00<00:00, 142.09it/s]\n"
     ]
    },
    {
     "name": "stdout",
     "output_type": "stream",
     "text": [
      "Avg train loss 0.57569236 , Avg test loss 0.599505603313446 Current learning rate [0.001]\n",
      "Epoch 11\n",
      "-------------------------------\n"
     ]
    },
    {
     "name": "stderr",
     "output_type": "stream",
     "text": [
      "100%|██████████| 33/33 [00:00<00:00, 43.78it/s]\n",
      "100%|██████████| 4/4 [00:00<00:00, 137.01it/s]\n"
     ]
    },
    {
     "name": "stdout",
     "output_type": "stream",
     "text": [
      "Avg train loss 0.5746459 , Avg test loss 0.5945260226726532 Current learning rate [0.001]\n",
      "Epoch 12\n",
      "-------------------------------\n"
     ]
    },
    {
     "name": "stderr",
     "output_type": "stream",
     "text": [
      "100%|██████████| 33/33 [00:00<00:00, 49.78it/s]\n",
      "100%|██████████| 4/4 [00:00<00:00, 146.47it/s]\n"
     ]
    },
    {
     "name": "stdout",
     "output_type": "stream",
     "text": [
      "Avg train loss 0.56407917 , Avg test loss 0.601356714963913 Current learning rate [0.001]\n",
      "Epoch 13\n",
      "-------------------------------\n"
     ]
    },
    {
     "name": "stderr",
     "output_type": "stream",
     "text": [
      "100%|██████████| 33/33 [00:00<00:00, 44.79it/s]\n",
      "100%|██████████| 4/4 [00:00<00:00, 130.24it/s]\n"
     ]
    },
    {
     "name": "stdout",
     "output_type": "stream",
     "text": [
      "Avg train loss 0.56415707 , Avg test loss 0.6012185513973236 Current learning rate [0.001]\n",
      "Epoch 14\n",
      "-------------------------------\n"
     ]
    },
    {
     "name": "stderr",
     "output_type": "stream",
     "text": [
      "100%|██████████| 33/33 [00:00<00:00, 44.42it/s]\n",
      "100%|██████████| 4/4 [00:00<00:00, 150.73it/s]\n"
     ]
    },
    {
     "name": "stdout",
     "output_type": "stream",
     "text": [
      "Avg train loss 0.5576741 , Avg test loss 0.607116237282753 Current learning rate [0.001]\n",
      "Epoch 15\n",
      "-------------------------------\n"
     ]
    },
    {
     "name": "stderr",
     "output_type": "stream",
     "text": [
      "100%|██████████| 33/33 [00:00<00:00, 43.82it/s]\n",
      "100%|██████████| 4/4 [00:00<00:00, 148.73it/s]\n"
     ]
    },
    {
     "name": "stdout",
     "output_type": "stream",
     "text": [
      "Avg train loss 0.55338293 , Avg test loss 0.5982401818037033 Current learning rate [0.001]\n",
      "Epoch 16\n",
      "-------------------------------\n"
     ]
    },
    {
     "name": "stderr",
     "output_type": "stream",
     "text": [
      "100%|██████████| 33/33 [00:00<00:00, 49.06it/s]\n",
      "100%|██████████| 4/4 [00:00<00:00, 142.49it/s]\n"
     ]
    },
    {
     "name": "stdout",
     "output_type": "stream",
     "text": [
      "Avg train loss 0.5460128 , Avg test loss 0.6083840131759644 Current learning rate [0.001]\n",
      "Epoch 17\n",
      "-------------------------------\n"
     ]
    },
    {
     "name": "stderr",
     "output_type": "stream",
     "text": [
      "100%|██████████| 33/33 [00:00<00:00, 47.33it/s]\n",
      "100%|██████████| 4/4 [00:00<00:00, 119.57it/s]\n"
     ]
    },
    {
     "name": "stdout",
     "output_type": "stream",
     "text": [
      "Avg train loss 0.5426626 , Avg test loss 0.5972598195075989 Current learning rate [0.001]\n",
      "Epoch 18\n",
      "-------------------------------\n"
     ]
    },
    {
     "name": "stderr",
     "output_type": "stream",
     "text": [
      "100%|██████████| 33/33 [00:00<00:00, 42.16it/s]\n",
      "100%|██████████| 4/4 [00:00<00:00, 141.89it/s]\n"
     ]
    },
    {
     "name": "stdout",
     "output_type": "stream",
     "text": [
      "Avg train loss 0.5411463 , Avg test loss 0.6032215803861618 Current learning rate [0.001]\n",
      "Epoch 19\n",
      "-------------------------------\n"
     ]
    },
    {
     "name": "stderr",
     "output_type": "stream",
     "text": [
      "100%|██████████| 33/33 [00:00<00:00, 49.59it/s]\n",
      "100%|██████████| 4/4 [00:00<00:00, 142.04it/s]\n"
     ]
    },
    {
     "name": "stdout",
     "output_type": "stream",
     "text": [
      "Avg train loss 0.52751267 , Avg test loss 0.6029143184423447 Current learning rate [0.001]\n",
      "Epoch 20\n",
      "-------------------------------\n"
     ]
    },
    {
     "name": "stderr",
     "output_type": "stream",
     "text": [
      "100%|██████████| 33/33 [00:00<00:00, 45.73it/s]\n",
      "100%|██████████| 4/4 [00:00<00:00, 145.82it/s]"
     ]
    },
    {
     "name": "stdout",
     "output_type": "stream",
     "text": [
      "Avg train loss 0.52165693 , Avg test loss 0.6000750213861465 Current learning rate [0.001]\n",
      "Done!\n"
     ]
    },
    {
     "name": "stderr",
     "output_type": "stream",
     "text": [
      "\n"
     ]
    }
   ],
   "source": [
    "epochs=20\n",
    "learningRate = 0.001\n",
    "\n",
    "# The optimizer decides which path to follow through the gradient of the loss function\n",
    "optimizer = torch.optim.Adam(model.parameters(), lr=learningRate)\n",
    "# The scheduler reduces the learning rate for the optimizer in order to for the optimizer to be able to \"enter\" narrow minima\n",
    "scheduler = torch.optim.lr_scheduler.StepLR(optimizer, 100, gamma=0.9)\n",
    "\n",
    "train_losses=[]\n",
    "test_losses=[]\n",
    "best_model_path = \"best_dnn_model.h5\"\n",
    "for t in range(epochs):\n",
    "    print(f\"Epoch {t+1}\\n-------------------------------\")\n",
    "    train_loss=train_loop(train_dataloader, model, loss_fn, optimizer, scheduler, best_model_path, device)\n",
    "    test_loss=test_loop(test_dataloader, model, loss_fn, device)\n",
    "    train_losses.append(train_loss)\n",
    "    test_losses.append(test_loss)\n",
    "    # print(\"Avg train loss\", train_loss, \", Current learning rate\", scheduler.get_last_lr())\n",
    "    print(\"Avg train loss\", train_loss, \", Avg test loss\", test_loss, \"Current learning rate\", scheduler.get_last_lr())\n",
    "print(\"Done!\")"
   ]
  },
  {
   "cell_type": "code",
   "execution_count": 277,
   "id": "381af134",
   "metadata": {},
   "outputs": [
    {
     "data": {
      "image/png": "[encoded data removed]",
      "text/plain": [
       "<Figure size 800x600 with 1 Axes>"
      ]
     },
     "metadata": {},
     "output_type": "display_data"
    }
   ],
   "source": [
    "plt.figure()\n",
    "plt.plot(train_losses, label=\"Average training loss\")\n",
    "plt.plot(test_losses, label=\"Average test loss\")\n",
    "plt.xlabel(\"Epoch\")\n",
    "plt.ylabel(\"Loss\")\n",
    "plt.legend(loc=\"best\")\n",
    "plt.show()\n",
    "plt.close()"
   ]
  },
  {
   "cell_type": "code",
   "execution_count": null,
   "id": "bcbc4170-4898-477f-acab-125aecbb9da3",
   "metadata": {},
   "outputs": [],
   "source": [
    "pred=model(torch.tensor(blind_data_features.to_numpy()))\n",
    "to_send = pred.cpu().detach().numpy()\n",
    "df_to_send = pd.DataFrame(to_send)\n",
    "\n",
    "for column in df_to_send.columns:\n",
    "    df_to_send[column] = scaler_train_label.inverse_transform(df_to_send.filter([column], axis=1))\n",
    "\n",
    "df_to_send.to_csv(\"my_file_group_4\",index=False) # Replace \"N\" with the group number we assigned you\n"
   ]
  },
  {
   "cell_type": "markdown",
   "id": "1a22ec80-956b-45ab-9e0d-58325019a516",
   "metadata": {},
   "source": [
    "# Practical instructions\n",
    "\n",
    "- Divide yourselves in groups of three. Once the groups are defined, we will assign you a numerical label.\n",
    "- Each group will have to send the csv file mentioned above as an attached `.csv`file to [lisbon-ml-workshop@cern.ch](mailto:lisbon-ml-workshop@cern.ch). The email (ONE EMAIL PER GROUP) must have:\n",
    "  - As an object: \"LIP ML Workshop Data Challenge: Group N\", where \"N\" is the number we assigned you above\n",
    "  - All the three members of the group must be in carbon copy to the email\n",
    "  - In the email text there must be a list of the full names of the three members of the project"
   ]
  },
  {
   "cell_type": "code",
   "execution_count": null,
   "id": "8e742f57-0770-4043-b0e0-b50441146557",
   "metadata": {},
   "outputs": [],
   "source": []
  }
 ],
 "metadata": {
  "kernelspec": {
   "display_name": "lisbon_ml_school",
   "language": "python",
   "name": "python3"
  },
  "language_info": {
   "codemirror_mode": {
    "name": "ipython",
    "version": 3
   },
   "file_extension": ".py",
   "mimetype": "text/x-python",
   "name": "python",
   "nbconvert_exporter": "python",
   "pygments_lexer": "ipython3",
   "version": "undefined.undefined.undefined"
  }
 },
 "nbformat": 4,
 "nbformat_minor": 5
}
